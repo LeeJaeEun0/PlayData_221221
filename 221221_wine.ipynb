{
  "nbformat": 4,
  "nbformat_minor": 0,
  "metadata": {
    "colab": {
      "provenance": [],
      "authorship_tag": "ABX9TyMyrpDC6z6onc2ZrWpFdPoa",
      "include_colab_link": true
    },
    "kernelspec": {
      "name": "python3",
      "display_name": "Python 3"
    },
    "language_info": {
      "name": "python"
    }
  },
  "cells": [
    {
      "cell_type": "markdown",
      "metadata": {
        "id": "view-in-github",
        "colab_type": "text"
      },
      "source": [
        "<a href=\"https://colab.research.google.com/github/LeeJaeEun0/st1221/blob/main/221221_wine.ipynb\" target=\"_parent\"><img src=\"https://colab.research.google.com/assets/colab-badge.svg\" alt=\"Open In Colab\"/></a>"
      ]
    },
    {
      "cell_type": "markdown",
      "source": [
        "# DecisionTreeClassifier\n",
        "## 와인분류\n",
        "### 데이터 -> 모델링 -> 분류/회귀 => 기존의 모델들과 정확도 비교\n",
        "### plot_tree로 시각화"
      ],
      "metadata": {
        "id": "IVko6y_5ZuYe"
      }
    },
    {
      "cell_type": "code",
      "source": [
        "import numpy as np\n",
        "import pandas as pd\n",
        "import matplotlib.pyplot as plt\n",
        "import seaborn as sns"
      ],
      "metadata": {
        "id": "Qr3Bpb_AbTnW"
      },
      "execution_count": null,
      "outputs": []
    },
    {
      "cell_type": "code",
      "execution_count": null,
      "metadata": {
        "colab": {
          "base_uri": "https://localhost:8080/",
          "height": 487
        },
        "id": "qnH2TeUqZs7u",
        "outputId": "444cedf2-c530-40ec-8639-7b2e1e4287bf"
      },
      "outputs": [
        {
          "output_type": "execute_result",
          "data": {
            "text/plain": [
              "     Class  Alcohol  Malic_Acid   Ash  Ash_Alcanity  Magnesium  Total_Phenols  \\\n",
              "0        1    14.23        1.71  2.43          15.6        127           2.80   \n",
              "1        1    13.20        1.78  2.14          11.2        100           2.65   \n",
              "2        1    13.16        2.36  2.67          18.6        101           2.80   \n",
              "3        1    14.37        1.95  2.50          16.8        113           3.85   \n",
              "4        1    13.24        2.59  2.87          21.0        118           2.80   \n",
              "..     ...      ...         ...   ...           ...        ...            ...   \n",
              "173      3    13.71        5.65  2.45          20.5         95           1.68   \n",
              "174      3    13.40        3.91  2.48          23.0        102           1.80   \n",
              "175      3    13.27        4.28  2.26          20.0        120           1.59   \n",
              "176      3    13.17        2.59  2.37          20.0        120           1.65   \n",
              "177      3    14.13        4.10  2.74          24.5         96           2.05   \n",
              "\n",
              "     Flavanoids  Nonflavanoid_Phenols  Proanthocyanins  Color_Intensity   Hue  \\\n",
              "0          3.06                  0.28             2.29             5.64  1.04   \n",
              "1          2.76                  0.26             1.28             4.38  1.05   \n",
              "2          3.24                  0.30             2.81             5.68  1.03   \n",
              "3          3.49                  0.24             2.18             7.80  0.86   \n",
              "4          2.69                  0.39             1.82             4.32  1.04   \n",
              "..          ...                   ...              ...              ...   ...   \n",
              "173        0.61                  0.52             1.06             7.70  0.64   \n",
              "174        0.75                  0.43             1.41             7.30  0.70   \n",
              "175        0.69                  0.43             1.35            10.20  0.59   \n",
              "176        0.68                  0.53             1.46             9.30  0.60   \n",
              "177        0.76                  0.56             1.35             9.20  0.61   \n",
              "\n",
              "     OD280  Proline  \n",
              "0     3.92     1065  \n",
              "1     3.40     1050  \n",
              "2     3.17     1185  \n",
              "3     3.45     1480  \n",
              "4     2.93      735  \n",
              "..     ...      ...  \n",
              "173   1.74      740  \n",
              "174   1.56      750  \n",
              "175   1.56      835  \n",
              "176   1.62      840  \n",
              "177   1.60      560  \n",
              "\n",
              "[178 rows x 14 columns]"
            ],
            "text/html": [
              "\n",
              "  <div id=\"df-f6c507bd-0434-486a-8666-422168a35b8e\">\n",
              "    <div class=\"colab-df-container\">\n",
              "      <div>\n",
              "<style scoped>\n",
              "    .dataframe tbody tr th:only-of-type {\n",
              "        vertical-align: middle;\n",
              "    }\n",
              "\n",
              "    .dataframe tbody tr th {\n",
              "        vertical-align: top;\n",
              "    }\n",
              "\n",
              "    .dataframe thead th {\n",
              "        text-align: right;\n",
              "    }\n",
              "</style>\n",
              "<table border=\"1\" class=\"dataframe\">\n",
              "  <thead>\n",
              "    <tr style=\"text-align: right;\">\n",
              "      <th></th>\n",
              "      <th>Class</th>\n",
              "      <th>Alcohol</th>\n",
              "      <th>Malic_Acid</th>\n",
              "      <th>Ash</th>\n",
              "      <th>Ash_Alcanity</th>\n",
              "      <th>Magnesium</th>\n",
              "      <th>Total_Phenols</th>\n",
              "      <th>Flavanoids</th>\n",
              "      <th>Nonflavanoid_Phenols</th>\n",
              "      <th>Proanthocyanins</th>\n",
              "      <th>Color_Intensity</th>\n",
              "      <th>Hue</th>\n",
              "      <th>OD280</th>\n",
              "      <th>Proline</th>\n",
              "    </tr>\n",
              "  </thead>\n",
              "  <tbody>\n",
              "    <tr>\n",
              "      <th>0</th>\n",
              "      <td>1</td>\n",
              "      <td>14.23</td>\n",
              "      <td>1.71</td>\n",
              "      <td>2.43</td>\n",
              "      <td>15.6</td>\n",
              "      <td>127</td>\n",
              "      <td>2.80</td>\n",
              "      <td>3.06</td>\n",
              "      <td>0.28</td>\n",
              "      <td>2.29</td>\n",
              "      <td>5.64</td>\n",
              "      <td>1.04</td>\n",
              "      <td>3.92</td>\n",
              "      <td>1065</td>\n",
              "    </tr>\n",
              "    <tr>\n",
              "      <th>1</th>\n",
              "      <td>1</td>\n",
              "      <td>13.20</td>\n",
              "      <td>1.78</td>\n",
              "      <td>2.14</td>\n",
              "      <td>11.2</td>\n",
              "      <td>100</td>\n",
              "      <td>2.65</td>\n",
              "      <td>2.76</td>\n",
              "      <td>0.26</td>\n",
              "      <td>1.28</td>\n",
              "      <td>4.38</td>\n",
              "      <td>1.05</td>\n",
              "      <td>3.40</td>\n",
              "      <td>1050</td>\n",
              "    </tr>\n",
              "    <tr>\n",
              "      <th>2</th>\n",
              "      <td>1</td>\n",
              "      <td>13.16</td>\n",
              "      <td>2.36</td>\n",
              "      <td>2.67</td>\n",
              "      <td>18.6</td>\n",
              "      <td>101</td>\n",
              "      <td>2.80</td>\n",
              "      <td>3.24</td>\n",
              "      <td>0.30</td>\n",
              "      <td>2.81</td>\n",
              "      <td>5.68</td>\n",
              "      <td>1.03</td>\n",
              "      <td>3.17</td>\n",
              "      <td>1185</td>\n",
              "    </tr>\n",
              "    <tr>\n",
              "      <th>3</th>\n",
              "      <td>1</td>\n",
              "      <td>14.37</td>\n",
              "      <td>1.95</td>\n",
              "      <td>2.50</td>\n",
              "      <td>16.8</td>\n",
              "      <td>113</td>\n",
              "      <td>3.85</td>\n",
              "      <td>3.49</td>\n",
              "      <td>0.24</td>\n",
              "      <td>2.18</td>\n",
              "      <td>7.80</td>\n",
              "      <td>0.86</td>\n",
              "      <td>3.45</td>\n",
              "      <td>1480</td>\n",
              "    </tr>\n",
              "    <tr>\n",
              "      <th>4</th>\n",
              "      <td>1</td>\n",
              "      <td>13.24</td>\n",
              "      <td>2.59</td>\n",
              "      <td>2.87</td>\n",
              "      <td>21.0</td>\n",
              "      <td>118</td>\n",
              "      <td>2.80</td>\n",
              "      <td>2.69</td>\n",
              "      <td>0.39</td>\n",
              "      <td>1.82</td>\n",
              "      <td>4.32</td>\n",
              "      <td>1.04</td>\n",
              "      <td>2.93</td>\n",
              "      <td>735</td>\n",
              "    </tr>\n",
              "    <tr>\n",
              "      <th>...</th>\n",
              "      <td>...</td>\n",
              "      <td>...</td>\n",
              "      <td>...</td>\n",
              "      <td>...</td>\n",
              "      <td>...</td>\n",
              "      <td>...</td>\n",
              "      <td>...</td>\n",
              "      <td>...</td>\n",
              "      <td>...</td>\n",
              "      <td>...</td>\n",
              "      <td>...</td>\n",
              "      <td>...</td>\n",
              "      <td>...</td>\n",
              "      <td>...</td>\n",
              "    </tr>\n",
              "    <tr>\n",
              "      <th>173</th>\n",
              "      <td>3</td>\n",
              "      <td>13.71</td>\n",
              "      <td>5.65</td>\n",
              "      <td>2.45</td>\n",
              "      <td>20.5</td>\n",
              "      <td>95</td>\n",
              "      <td>1.68</td>\n",
              "      <td>0.61</td>\n",
              "      <td>0.52</td>\n",
              "      <td>1.06</td>\n",
              "      <td>7.70</td>\n",
              "      <td>0.64</td>\n",
              "      <td>1.74</td>\n",
              "      <td>740</td>\n",
              "    </tr>\n",
              "    <tr>\n",
              "      <th>174</th>\n",
              "      <td>3</td>\n",
              "      <td>13.40</td>\n",
              "      <td>3.91</td>\n",
              "      <td>2.48</td>\n",
              "      <td>23.0</td>\n",
              "      <td>102</td>\n",
              "      <td>1.80</td>\n",
              "      <td>0.75</td>\n",
              "      <td>0.43</td>\n",
              "      <td>1.41</td>\n",
              "      <td>7.30</td>\n",
              "      <td>0.70</td>\n",
              "      <td>1.56</td>\n",
              "      <td>750</td>\n",
              "    </tr>\n",
              "    <tr>\n",
              "      <th>175</th>\n",
              "      <td>3</td>\n",
              "      <td>13.27</td>\n",
              "      <td>4.28</td>\n",
              "      <td>2.26</td>\n",
              "      <td>20.0</td>\n",
              "      <td>120</td>\n",
              "      <td>1.59</td>\n",
              "      <td>0.69</td>\n",
              "      <td>0.43</td>\n",
              "      <td>1.35</td>\n",
              "      <td>10.20</td>\n",
              "      <td>0.59</td>\n",
              "      <td>1.56</td>\n",
              "      <td>835</td>\n",
              "    </tr>\n",
              "    <tr>\n",
              "      <th>176</th>\n",
              "      <td>3</td>\n",
              "      <td>13.17</td>\n",
              "      <td>2.59</td>\n",
              "      <td>2.37</td>\n",
              "      <td>20.0</td>\n",
              "      <td>120</td>\n",
              "      <td>1.65</td>\n",
              "      <td>0.68</td>\n",
              "      <td>0.53</td>\n",
              "      <td>1.46</td>\n",
              "      <td>9.30</td>\n",
              "      <td>0.60</td>\n",
              "      <td>1.62</td>\n",
              "      <td>840</td>\n",
              "    </tr>\n",
              "    <tr>\n",
              "      <th>177</th>\n",
              "      <td>3</td>\n",
              "      <td>14.13</td>\n",
              "      <td>4.10</td>\n",
              "      <td>2.74</td>\n",
              "      <td>24.5</td>\n",
              "      <td>96</td>\n",
              "      <td>2.05</td>\n",
              "      <td>0.76</td>\n",
              "      <td>0.56</td>\n",
              "      <td>1.35</td>\n",
              "      <td>9.20</td>\n",
              "      <td>0.61</td>\n",
              "      <td>1.60</td>\n",
              "      <td>560</td>\n",
              "    </tr>\n",
              "  </tbody>\n",
              "</table>\n",
              "<p>178 rows × 14 columns</p>\n",
              "</div>\n",
              "      <button class=\"colab-df-convert\" onclick=\"convertToInteractive('df-f6c507bd-0434-486a-8666-422168a35b8e')\"\n",
              "              title=\"Convert this dataframe to an interactive table.\"\n",
              "              style=\"display:none;\">\n",
              "        \n",
              "  <svg xmlns=\"http://www.w3.org/2000/svg\" height=\"24px\"viewBox=\"0 0 24 24\"\n",
              "       width=\"24px\">\n",
              "    <path d=\"M0 0h24v24H0V0z\" fill=\"none\"/>\n",
              "    <path d=\"M18.56 5.44l.94 2.06.94-2.06 2.06-.94-2.06-.94-.94-2.06-.94 2.06-2.06.94zm-11 1L8.5 8.5l.94-2.06 2.06-.94-2.06-.94L8.5 2.5l-.94 2.06-2.06.94zm10 10l.94 2.06.94-2.06 2.06-.94-2.06-.94-.94-2.06-.94 2.06-2.06.94z\"/><path d=\"M17.41 7.96l-1.37-1.37c-.4-.4-.92-.59-1.43-.59-.52 0-1.04.2-1.43.59L10.3 9.45l-7.72 7.72c-.78.78-.78 2.05 0 2.83L4 21.41c.39.39.9.59 1.41.59.51 0 1.02-.2 1.41-.59l7.78-7.78 2.81-2.81c.8-.78.8-2.07 0-2.86zM5.41 20L4 18.59l7.72-7.72 1.47 1.35L5.41 20z\"/>\n",
              "  </svg>\n",
              "      </button>\n",
              "      \n",
              "  <style>\n",
              "    .colab-df-container {\n",
              "      display:flex;\n",
              "      flex-wrap:wrap;\n",
              "      gap: 12px;\n",
              "    }\n",
              "\n",
              "    .colab-df-convert {\n",
              "      background-color: #E8F0FE;\n",
              "      border: none;\n",
              "      border-radius: 50%;\n",
              "      cursor: pointer;\n",
              "      display: none;\n",
              "      fill: #1967D2;\n",
              "      height: 32px;\n",
              "      padding: 0 0 0 0;\n",
              "      width: 32px;\n",
              "    }\n",
              "\n",
              "    .colab-df-convert:hover {\n",
              "      background-color: #E2EBFA;\n",
              "      box-shadow: 0px 1px 2px rgba(60, 64, 67, 0.3), 0px 1px 3px 1px rgba(60, 64, 67, 0.15);\n",
              "      fill: #174EA6;\n",
              "    }\n",
              "\n",
              "    [theme=dark] .colab-df-convert {\n",
              "      background-color: #3B4455;\n",
              "      fill: #D2E3FC;\n",
              "    }\n",
              "\n",
              "    [theme=dark] .colab-df-convert:hover {\n",
              "      background-color: #434B5C;\n",
              "      box-shadow: 0px 1px 3px 1px rgba(0, 0, 0, 0.15);\n",
              "      filter: drop-shadow(0px 1px 2px rgba(0, 0, 0, 0.3));\n",
              "      fill: #FFFFFF;\n",
              "    }\n",
              "  </style>\n",
              "\n",
              "      <script>\n",
              "        const buttonEl =\n",
              "          document.querySelector('#df-f6c507bd-0434-486a-8666-422168a35b8e button.colab-df-convert');\n",
              "        buttonEl.style.display =\n",
              "          google.colab.kernel.accessAllowed ? 'block' : 'none';\n",
              "\n",
              "        async function convertToInteractive(key) {\n",
              "          const element = document.querySelector('#df-f6c507bd-0434-486a-8666-422168a35b8e');\n",
              "          const dataTable =\n",
              "            await google.colab.kernel.invokeFunction('convertToInteractive',\n",
              "                                                     [key], {});\n",
              "          if (!dataTable) return;\n",
              "\n",
              "          const docLinkHtml = 'Like what you see? Visit the ' +\n",
              "            '<a target=\"_blank\" href=https://colab.research.google.com/notebooks/data_table.ipynb>data table notebook</a>'\n",
              "            + ' to learn more about interactive tables.';\n",
              "          element.innerHTML = '';\n",
              "          dataTable['output_type'] = 'display_data';\n",
              "          await google.colab.output.renderOutput(dataTable, element);\n",
              "          const docLink = document.createElement('div');\n",
              "          docLink.innerHTML = docLinkHtml;\n",
              "          element.appendChild(docLink);\n",
              "        }\n",
              "      </script>\n",
              "    </div>\n",
              "  </div>\n",
              "  "
            ]
          },
          "metadata": {},
          "execution_count": 7
        }
      ],
      "source": [
        "# https://www.kaggle.com/datasets/akhil0007/wine-data\n",
        "# https://raw.githubusercontent.com/bigdata-young/https://github.com/bigdata-young/ai_26th/main/data/wine.csv'\n",
        "url = \"https://raw.githubusercontent.com/bigdata-young/ai_26th/main/data/wine.csv\"\n",
        "df = pd.read_csv(url)\n",
        "df"
      ]
    },
    {
      "cell_type": "code",
      "source": [
        "df.info() # 결측치 x, object x\n",
        "# 0)  클래스\n",
        "# 1)  알코올\n",
        "# 2)  사과산\n",
        "# 3)  회분\n",
        "# 4)  회분의 알칼리도\n",
        "# 5)  마그네슘\n",
        "# 6)  총 페놀\n",
        "# 7)  플라바노이드\n",
        "# 8)  비플라바노이드 페놀\n",
        "# 9)  프로안토시아닌\n",
        "# 10) 색도\n",
        "# 11) 색조\n",
        "# 12) 희석 와인의 OD280/OD315 13\n",
        "# 13) 프롤린"
      ],
      "metadata": {
        "colab": {
          "base_uri": "https://localhost:8080/"
        },
        "id": "BbwhrX2Rb-4D",
        "outputId": "40553a84-91ab-4ff7-a14e-51d337c0bf6d"
      },
      "execution_count": null,
      "outputs": [
        {
          "output_type": "stream",
          "name": "stdout",
          "text": [
            "<class 'pandas.core.frame.DataFrame'>\n",
            "RangeIndex: 178 entries, 0 to 177\n",
            "Data columns (total 14 columns):\n",
            " #   Column                Non-Null Count  Dtype  \n",
            "---  ------                --------------  -----  \n",
            " 0   Class                 178 non-null    int64  \n",
            " 1   Alcohol               178 non-null    float64\n",
            " 2   Malic_Acid            178 non-null    float64\n",
            " 3   Ash                   178 non-null    float64\n",
            " 4   Ash_Alcanity          178 non-null    float64\n",
            " 5   Magnesium             178 non-null    int64  \n",
            " 6   Total_Phenols         178 non-null    float64\n",
            " 7   Flavanoids            178 non-null    float64\n",
            " 8   Nonflavanoid_Phenols  178 non-null    float64\n",
            " 9   Proanthocyanins       178 non-null    float64\n",
            " 10  Color_Intensity       178 non-null    float64\n",
            " 11  Hue                   178 non-null    float64\n",
            " 12  OD280                 178 non-null    float64\n",
            " 13  Proline               178 non-null    int64  \n",
            "dtypes: float64(11), int64(3)\n",
            "memory usage: 19.6 KB\n"
          ]
        }
      ]
    },
    {
      "cell_type": "code",
      "source": [
        "pd.options.display.float_format=\"{:,.4f}\".format \n",
        "df.describe()"
      ],
      "metadata": {
        "colab": {
          "base_uri": "https://localhost:8080/",
          "height": 364
        },
        "id": "ewxQDwzkcATA",
        "outputId": "e1e4800f-adb1-4a92-cc28-954468e05fb0"
      },
      "execution_count": null,
      "outputs": [
        {
          "output_type": "execute_result",
          "data": {
            "text/plain": [
              "         Class  Alcohol  Malic_Acid      Ash  Ash_Alcanity  Magnesium  \\\n",
              "count 178.0000 178.0000    178.0000 178.0000      178.0000   178.0000   \n",
              "mean    1.9382  13.0006      2.3363   2.3665       19.4949    99.7416   \n",
              "std     0.7750   0.8118      1.1171   0.2743        3.3396    14.2825   \n",
              "min     1.0000  11.0300      0.7400   1.3600       10.6000    70.0000   \n",
              "25%     1.0000  12.3625      1.6025   2.2100       17.2000    88.0000   \n",
              "50%     2.0000  13.0500      1.8650   2.3600       19.5000    98.0000   \n",
              "75%     3.0000  13.6775      3.0825   2.5575       21.5000   107.0000   \n",
              "max     3.0000  14.8300      5.8000   3.2300       30.0000   162.0000   \n",
              "\n",
              "       Total_Phenols  Flavanoids  Nonflavanoid_Phenols  Proanthocyanins  \\\n",
              "count       178.0000    178.0000              178.0000         178.0000   \n",
              "mean          2.2951      2.0293                0.3619           1.5909   \n",
              "std           0.6259      0.9989                0.1245           0.5724   \n",
              "min           0.9800      0.3400                0.1300           0.4100   \n",
              "25%           1.7425      1.2050                0.2700           1.2500   \n",
              "50%           2.3550      2.1350                0.3400           1.5550   \n",
              "75%           2.8000      2.8750                0.4375           1.9500   \n",
              "max           3.8800      5.0800                0.6600           3.5800   \n",
              "\n",
              "       Color_Intensity      Hue    OD280    Proline  \n",
              "count         178.0000 178.0000 178.0000   178.0000  \n",
              "mean            5.0581   0.9574   2.6117   746.8933  \n",
              "std             2.3183   0.2286   0.7100   314.9075  \n",
              "min             1.2800   0.4800   1.2700   278.0000  \n",
              "25%             3.2200   0.7825   1.9375   500.5000  \n",
              "50%             4.6900   0.9650   2.7800   673.5000  \n",
              "75%             6.2000   1.1200   3.1700   985.0000  \n",
              "max            13.0000   1.7100   4.0000 1,680.0000  "
            ],
            "text/html": [
              "\n",
              "  <div id=\"df-65049763-d5a2-4d94-a5bb-7c9c28924b49\">\n",
              "    <div class=\"colab-df-container\">\n",
              "      <div>\n",
              "<style scoped>\n",
              "    .dataframe tbody tr th:only-of-type {\n",
              "        vertical-align: middle;\n",
              "    }\n",
              "\n",
              "    .dataframe tbody tr th {\n",
              "        vertical-align: top;\n",
              "    }\n",
              "\n",
              "    .dataframe thead th {\n",
              "        text-align: right;\n",
              "    }\n",
              "</style>\n",
              "<table border=\"1\" class=\"dataframe\">\n",
              "  <thead>\n",
              "    <tr style=\"text-align: right;\">\n",
              "      <th></th>\n",
              "      <th>Class</th>\n",
              "      <th>Alcohol</th>\n",
              "      <th>Malic_Acid</th>\n",
              "      <th>Ash</th>\n",
              "      <th>Ash_Alcanity</th>\n",
              "      <th>Magnesium</th>\n",
              "      <th>Total_Phenols</th>\n",
              "      <th>Flavanoids</th>\n",
              "      <th>Nonflavanoid_Phenols</th>\n",
              "      <th>Proanthocyanins</th>\n",
              "      <th>Color_Intensity</th>\n",
              "      <th>Hue</th>\n",
              "      <th>OD280</th>\n",
              "      <th>Proline</th>\n",
              "    </tr>\n",
              "  </thead>\n",
              "  <tbody>\n",
              "    <tr>\n",
              "      <th>count</th>\n",
              "      <td>178.0000</td>\n",
              "      <td>178.0000</td>\n",
              "      <td>178.0000</td>\n",
              "      <td>178.0000</td>\n",
              "      <td>178.0000</td>\n",
              "      <td>178.0000</td>\n",
              "      <td>178.0000</td>\n",
              "      <td>178.0000</td>\n",
              "      <td>178.0000</td>\n",
              "      <td>178.0000</td>\n",
              "      <td>178.0000</td>\n",
              "      <td>178.0000</td>\n",
              "      <td>178.0000</td>\n",
              "      <td>178.0000</td>\n",
              "    </tr>\n",
              "    <tr>\n",
              "      <th>mean</th>\n",
              "      <td>1.9382</td>\n",
              "      <td>13.0006</td>\n",
              "      <td>2.3363</td>\n",
              "      <td>2.3665</td>\n",
              "      <td>19.4949</td>\n",
              "      <td>99.7416</td>\n",
              "      <td>2.2951</td>\n",
              "      <td>2.0293</td>\n",
              "      <td>0.3619</td>\n",
              "      <td>1.5909</td>\n",
              "      <td>5.0581</td>\n",
              "      <td>0.9574</td>\n",
              "      <td>2.6117</td>\n",
              "      <td>746.8933</td>\n",
              "    </tr>\n",
              "    <tr>\n",
              "      <th>std</th>\n",
              "      <td>0.7750</td>\n",
              "      <td>0.8118</td>\n",
              "      <td>1.1171</td>\n",
              "      <td>0.2743</td>\n",
              "      <td>3.3396</td>\n",
              "      <td>14.2825</td>\n",
              "      <td>0.6259</td>\n",
              "      <td>0.9989</td>\n",
              "      <td>0.1245</td>\n",
              "      <td>0.5724</td>\n",
              "      <td>2.3183</td>\n",
              "      <td>0.2286</td>\n",
              "      <td>0.7100</td>\n",
              "      <td>314.9075</td>\n",
              "    </tr>\n",
              "    <tr>\n",
              "      <th>min</th>\n",
              "      <td>1.0000</td>\n",
              "      <td>11.0300</td>\n",
              "      <td>0.7400</td>\n",
              "      <td>1.3600</td>\n",
              "      <td>10.6000</td>\n",
              "      <td>70.0000</td>\n",
              "      <td>0.9800</td>\n",
              "      <td>0.3400</td>\n",
              "      <td>0.1300</td>\n",
              "      <td>0.4100</td>\n",
              "      <td>1.2800</td>\n",
              "      <td>0.4800</td>\n",
              "      <td>1.2700</td>\n",
              "      <td>278.0000</td>\n",
              "    </tr>\n",
              "    <tr>\n",
              "      <th>25%</th>\n",
              "      <td>1.0000</td>\n",
              "      <td>12.3625</td>\n",
              "      <td>1.6025</td>\n",
              "      <td>2.2100</td>\n",
              "      <td>17.2000</td>\n",
              "      <td>88.0000</td>\n",
              "      <td>1.7425</td>\n",
              "      <td>1.2050</td>\n",
              "      <td>0.2700</td>\n",
              "      <td>1.2500</td>\n",
              "      <td>3.2200</td>\n",
              "      <td>0.7825</td>\n",
              "      <td>1.9375</td>\n",
              "      <td>500.5000</td>\n",
              "    </tr>\n",
              "    <tr>\n",
              "      <th>50%</th>\n",
              "      <td>2.0000</td>\n",
              "      <td>13.0500</td>\n",
              "      <td>1.8650</td>\n",
              "      <td>2.3600</td>\n",
              "      <td>19.5000</td>\n",
              "      <td>98.0000</td>\n",
              "      <td>2.3550</td>\n",
              "      <td>2.1350</td>\n",
              "      <td>0.3400</td>\n",
              "      <td>1.5550</td>\n",
              "      <td>4.6900</td>\n",
              "      <td>0.9650</td>\n",
              "      <td>2.7800</td>\n",
              "      <td>673.5000</td>\n",
              "    </tr>\n",
              "    <tr>\n",
              "      <th>75%</th>\n",
              "      <td>3.0000</td>\n",
              "      <td>13.6775</td>\n",
              "      <td>3.0825</td>\n",
              "      <td>2.5575</td>\n",
              "      <td>21.5000</td>\n",
              "      <td>107.0000</td>\n",
              "      <td>2.8000</td>\n",
              "      <td>2.8750</td>\n",
              "      <td>0.4375</td>\n",
              "      <td>1.9500</td>\n",
              "      <td>6.2000</td>\n",
              "      <td>1.1200</td>\n",
              "      <td>3.1700</td>\n",
              "      <td>985.0000</td>\n",
              "    </tr>\n",
              "    <tr>\n",
              "      <th>max</th>\n",
              "      <td>3.0000</td>\n",
              "      <td>14.8300</td>\n",
              "      <td>5.8000</td>\n",
              "      <td>3.2300</td>\n",
              "      <td>30.0000</td>\n",
              "      <td>162.0000</td>\n",
              "      <td>3.8800</td>\n",
              "      <td>5.0800</td>\n",
              "      <td>0.6600</td>\n",
              "      <td>3.5800</td>\n",
              "      <td>13.0000</td>\n",
              "      <td>1.7100</td>\n",
              "      <td>4.0000</td>\n",
              "      <td>1,680.0000</td>\n",
              "    </tr>\n",
              "  </tbody>\n",
              "</table>\n",
              "</div>\n",
              "      <button class=\"colab-df-convert\" onclick=\"convertToInteractive('df-65049763-d5a2-4d94-a5bb-7c9c28924b49')\"\n",
              "              title=\"Convert this dataframe to an interactive table.\"\n",
              "              style=\"display:none;\">\n",
              "        \n",
              "  <svg xmlns=\"http://www.w3.org/2000/svg\" height=\"24px\"viewBox=\"0 0 24 24\"\n",
              "       width=\"24px\">\n",
              "    <path d=\"M0 0h24v24H0V0z\" fill=\"none\"/>\n",
              "    <path d=\"M18.56 5.44l.94 2.06.94-2.06 2.06-.94-2.06-.94-.94-2.06-.94 2.06-2.06.94zm-11 1L8.5 8.5l.94-2.06 2.06-.94-2.06-.94L8.5 2.5l-.94 2.06-2.06.94zm10 10l.94 2.06.94-2.06 2.06-.94-2.06-.94-.94-2.06-.94 2.06-2.06.94z\"/><path d=\"M17.41 7.96l-1.37-1.37c-.4-.4-.92-.59-1.43-.59-.52 0-1.04.2-1.43.59L10.3 9.45l-7.72 7.72c-.78.78-.78 2.05 0 2.83L4 21.41c.39.39.9.59 1.41.59.51 0 1.02-.2 1.41-.59l7.78-7.78 2.81-2.81c.8-.78.8-2.07 0-2.86zM5.41 20L4 18.59l7.72-7.72 1.47 1.35L5.41 20z\"/>\n",
              "  </svg>\n",
              "      </button>\n",
              "      \n",
              "  <style>\n",
              "    .colab-df-container {\n",
              "      display:flex;\n",
              "      flex-wrap:wrap;\n",
              "      gap: 12px;\n",
              "    }\n",
              "\n",
              "    .colab-df-convert {\n",
              "      background-color: #E8F0FE;\n",
              "      border: none;\n",
              "      border-radius: 50%;\n",
              "      cursor: pointer;\n",
              "      display: none;\n",
              "      fill: #1967D2;\n",
              "      height: 32px;\n",
              "      padding: 0 0 0 0;\n",
              "      width: 32px;\n",
              "    }\n",
              "\n",
              "    .colab-df-convert:hover {\n",
              "      background-color: #E2EBFA;\n",
              "      box-shadow: 0px 1px 2px rgba(60, 64, 67, 0.3), 0px 1px 3px 1px rgba(60, 64, 67, 0.15);\n",
              "      fill: #174EA6;\n",
              "    }\n",
              "\n",
              "    [theme=dark] .colab-df-convert {\n",
              "      background-color: #3B4455;\n",
              "      fill: #D2E3FC;\n",
              "    }\n",
              "\n",
              "    [theme=dark] .colab-df-convert:hover {\n",
              "      background-color: #434B5C;\n",
              "      box-shadow: 0px 1px 3px 1px rgba(0, 0, 0, 0.15);\n",
              "      filter: drop-shadow(0px 1px 2px rgba(0, 0, 0, 0.3));\n",
              "      fill: #FFFFFF;\n",
              "    }\n",
              "  </style>\n",
              "\n",
              "      <script>\n",
              "        const buttonEl =\n",
              "          document.querySelector('#df-65049763-d5a2-4d94-a5bb-7c9c28924b49 button.colab-df-convert');\n",
              "        buttonEl.style.display =\n",
              "          google.colab.kernel.accessAllowed ? 'block' : 'none';\n",
              "\n",
              "        async function convertToInteractive(key) {\n",
              "          const element = document.querySelector('#df-65049763-d5a2-4d94-a5bb-7c9c28924b49');\n",
              "          const dataTable =\n",
              "            await google.colab.kernel.invokeFunction('convertToInteractive',\n",
              "                                                     [key], {});\n",
              "          if (!dataTable) return;\n",
              "\n",
              "          const docLinkHtml = 'Like what you see? Visit the ' +\n",
              "            '<a target=\"_blank\" href=https://colab.research.google.com/notebooks/data_table.ipynb>data table notebook</a>'\n",
              "            + ' to learn more about interactive tables.';\n",
              "          element.innerHTML = '';\n",
              "          dataTable['output_type'] = 'display_data';\n",
              "          await google.colab.output.renderOutput(dataTable, element);\n",
              "          const docLink = document.createElement('div');\n",
              "          docLink.innerHTML = docLinkHtml;\n",
              "          element.appendChild(docLink);\n",
              "        }\n",
              "      </script>\n",
              "    </div>\n",
              "  </div>\n",
              "  "
            ]
          },
          "metadata": {},
          "execution_count": 21
        }
      ]
    },
    {
      "cell_type": "code",
      "source": [
        "df['Class'].value_counts() # 각 클래스별 개수"
      ],
      "metadata": {
        "colab": {
          "base_uri": "https://localhost:8080/"
        },
        "id": "lJqe1SmccJua",
        "outputId": "3d53f929-6f6e-4527-b026-9b2cca1e8e64"
      },
      "execution_count": null,
      "outputs": [
        {
          "output_type": "execute_result",
          "data": {
            "text/plain": [
              "2    71\n",
              "1    59\n",
              "3    48\n",
              "Name: Class, dtype: int64"
            ]
          },
          "metadata": {},
          "execution_count": 11
        }
      ]
    },
    {
      "cell_type": "code",
      "source": [
        "df['Class'].value_counts().plot(kind='bar')"
      ],
      "metadata": {
        "colab": {
          "base_uri": "https://localhost:8080/",
          "height": 280
        },
        "id": "3NM2CxbLg2qe",
        "outputId": "7fcf26eb-ba04-43c5-b180-4e016e7f07c2"
      },
      "execution_count": null,
      "outputs": [
        {
          "output_type": "execute_result",
          "data": {
            "text/plain": [
              "<matplotlib.axes._subplots.AxesSubplot at 0x7f9333a96250>"
            ]
          },
          "metadata": {},
          "execution_count": 12
        },
        {
          "output_type": "display_data",
          "data": {
            "text/plain": [
              "<Figure size 432x288 with 1 Axes>"
            ],
            "image/png": "[encoded data removed]"
          },
          "metadata": {
            "needs_background": "light"
          }
        }
      ]
    },
    {
      "cell_type": "code",
      "source": [
        "df['Class'].value_counts() / len(df['Class']) # 전체 중에 각 클래스별 비율"
      ],
      "metadata": {
        "colab": {
          "base_uri": "https://localhost:8080/"
        },
        "id": "3lVuCm5vhlpx",
        "outputId": "5f8aa5b1-ff50-4c0a-afc7-bb692ef840c1"
      },
      "execution_count": null,
      "outputs": [
        {
          "output_type": "execute_result",
          "data": {
            "text/plain": [
              "2    0.398876\n",
              "1    0.331461\n",
              "3    0.269663\n",
              "Name: Class, dtype: float64"
            ]
          },
          "metadata": {},
          "execution_count": 13
        }
      ]
    },
    {
      "cell_type": "code",
      "source": [
        "df.isna().mean().plot(kind='bar') # 결측치 확인"
      ],
      "metadata": {
        "colab": {
          "base_uri": "https://localhost:8080/",
          "height": 383
        },
        "id": "eUw9tBpbh1-a",
        "outputId": "d150d906-548e-4a2c-a10c-96396bab484d"
      },
      "execution_count": null,
      "outputs": [
        {
          "output_type": "execute_result",
          "data": {
            "text/plain": [
              "<matplotlib.axes._subplots.AxesSubplot at 0x7f93339de0d0>"
            ]
          },
          "metadata": {},
          "execution_count": 14
        },
        {
          "output_type": "display_data",
          "data": {
            "text/plain": [
              "<Figure size 432x288 with 1 Axes>"
            ],
            "image/png": "[encoded data removed]"
          },
          "metadata": {
            "needs_background": "light"
          }
        }
      ]
    },
    {
      "cell_type": "code",
      "source": [
        "df.columns"
      ],
      "metadata": {
        "colab": {
          "base_uri": "https://localhost:8080/"
        },
        "id": "-n3vF6VdiU4V",
        "outputId": "b1a77e42-9549-4fda-e919-1358daeac12a"
      },
      "execution_count": null,
      "outputs": [
        {
          "output_type": "execute_result",
          "data": {
            "text/plain": [
              "Index(['Class', 'Alcohol', 'Malic_Acid', 'Ash', 'Ash_Alcanity', 'Magnesium',\n",
              "       'Total_Phenols', 'Flavanoids', 'Nonflavanoid_Phenols',\n",
              "       'Proanthocyanins', 'Color_Intensity', 'Hue', 'OD280', 'Proline'],\n",
              "      dtype='object')"
            ]
          },
          "metadata": {},
          "execution_count": 15
        }
      ]
    },
    {
      "cell_type": "markdown",
      "source": [
        "## 훈련셋, 시험셋"
      ],
      "metadata": {
        "id": "tOVkirnRmN0a"
      }
    },
    {
      "cell_type": "code",
      "source": [
        "from sklearn.model_selection import train_test_split\n",
        "\n",
        "X = df.drop('Class', axis=1)\n",
        "y = df['Class']\n",
        "\n",
        "X_train, X_test,y_train,y_test = train_test_split(\n",
        "    X,y,test_size=0.2, random_state=16\n",
        "    )"
      ],
      "metadata": {
        "id": "fWvXSljAjo1G"
      },
      "execution_count": null,
      "outputs": []
    },
    {
      "cell_type": "markdown",
      "source": [
        "## 모델링 & 평가"
      ],
      "metadata": {
        "id": "7sJlRsa9mlyf"
      }
    },
    {
      "cell_type": "code",
      "source": [
        "from sklearn.tree import DecisionTreeClassifier # 분류"
      ],
      "metadata": {
        "id": "d4ru-X3DiaAL"
      },
      "execution_count": null,
      "outputs": []
    },
    {
      "cell_type": "code",
      "source": [
        "model = DecisionTreeClassifier(random_state=21)"
      ],
      "metadata": {
        "id": "in_InuQkj32-"
      },
      "execution_count": null,
      "outputs": []
    },
    {
      "cell_type": "code",
      "source": [
        "model.fit(X_train, y_train)"
      ],
      "metadata": {
        "colab": {
          "base_uri": "https://localhost:8080/"
        },
        "id": "Iz2HQlpIj5ip",
        "outputId": "4804cff4-b1be-4b6e-cad8-908520e2aef0"
      },
      "execution_count": null,
      "outputs": [
        {
          "output_type": "execute_result",
          "data": {
            "text/plain": [
              "DecisionTreeClassifier(random_state=21)"
            ]
          },
          "metadata": {},
          "execution_count": 19
        }
      ]
    },
    {
      "cell_type": "code",
      "source": [
        "pred = model.predict(X_test)\n",
        "pred"
      ],
      "metadata": {
        "colab": {
          "base_uri": "https://localhost:8080/"
        },
        "id": "Is1E7OM9j7UI",
        "outputId": "6644080a-9602-4ed3-bc31-bb3f81827e67"
      },
      "execution_count": null,
      "outputs": [
        {
          "output_type": "execute_result",
          "data": {
            "text/plain": [
              "array([3, 3, 1, 1, 3, 2, 1, 3, 3, 3, 1, 3, 1, 1, 2, 1, 2, 2, 2, 2, 1, 3,\n",
              "       1, 2, 3, 3, 3, 2, 3, 2, 3, 2, 3, 1, 3, 2])"
            ]
          },
          "metadata": {},
          "execution_count": 20
        }
      ]
    },
    {
      "cell_type": "code",
      "source": [
        "model.predict_proba(X_test)"
      ],
      "metadata": {
        "colab": {
          "base_uri": "https://localhost:8080/"
        },
        "id": "ETiKsrISkDZ7",
        "outputId": "26428c4e-bcc3-4eb4-e447-cf228520c72a"
      },
      "execution_count": null,
      "outputs": [
        {
          "output_type": "execute_result",
          "data": {
            "text/plain": [
              "array([[0., 0., 1.],\n",
              "       [0., 0., 1.],\n",
              "       [1., 0., 0.],\n",
              "       [1., 0., 0.],\n",
              "       [0., 0., 1.],\n",
              "       [0., 1., 0.],\n",
              "       [1., 0., 0.],\n",
              "       [0., 0., 1.],\n",
              "       [0., 0., 1.],\n",
              "       [0., 0., 1.],\n",
              "       [1., 0., 0.],\n",
              "       [0., 0., 1.],\n",
              "       [1., 0., 0.],\n",
              "       [1., 0., 0.],\n",
              "       [0., 1., 0.],\n",
              "       [1., 0., 0.],\n",
              "       [0., 1., 0.],\n",
              "       [0., 1., 0.],\n",
              "       [0., 1., 0.],\n",
              "       [0., 1., 0.],\n",
              "       [1., 0., 0.],\n",
              "       [0., 0., 1.],\n",
              "       [1., 0., 0.],\n",
              "       [0., 1., 0.],\n",
              "       [0., 0., 1.],\n",
              "       [0., 0., 1.],\n",
              "       [0., 0., 1.],\n",
              "       [0., 1., 0.],\n",
              "       [0., 0., 1.],\n",
              "       [0., 1., 0.],\n",
              "       [0., 0., 1.],\n",
              "       [0., 1., 0.],\n",
              "       [0., 0., 1.],\n",
              "       [1., 0., 0.],\n",
              "       [0., 0., 1.],\n",
              "       [0., 1., 0.]])"
            ]
          },
          "metadata": {},
          "execution_count": 22
        }
      ]
    },
    {
      "cell_type": "code",
      "source": [
        "from sklearn.metrics import accuracy_score, confusion_matrix"
      ],
      "metadata": {
        "id": "HMHRubvJkjog"
      },
      "execution_count": null,
      "outputs": []
    },
    {
      "cell_type": "code",
      "source": [
        "accuracy_score(y_test, pred) # knn으로 처리하면 0.916666으로 knn에 더 적합한 모델"
      ],
      "metadata": {
        "colab": {
          "base_uri": "https://localhost:8080/"
        },
        "id": "A5hm7T62ko7Q",
        "outputId": "ac9ea37b-6bed-4754-82c8-4d78ad5f89ab"
      },
      "execution_count": null,
      "outputs": [
        {
          "output_type": "execute_result",
          "data": {
            "text/plain": [
              "0.8611111111111112"
            ]
          },
          "metadata": {},
          "execution_count": 28
        }
      ]
    },
    {
      "cell_type": "markdown",
      "source": [
        "## 하이퍼패러미터 튜닝"
      ],
      "metadata": {
        "id": "m-6UrUw71uiK"
      }
    },
    {
      "cell_type": "code",
      "source": [
        "def test_depth(depth):\n",
        "  # max_depth : 트리의 깊이 제한\n",
        "  model = DecisionTreeClassifier(random_state=100, max_depth=5)\n",
        "  model.fit(X_train, y_train) # 훈련 데이터 -> 모델 학습\n",
        "  # 훈련 데이터로 모델을 통해서 예측\n",
        "  train_pred = model.predict(X_train) # 학습을 시킨 값으로 다시 예측\n",
        "  # 시험 데이터로 모델을 통해서 예측\n",
        "  test_pred = model.predict(X_test) # 새로운 값으로 신규 예측\n",
        "  print(f\"depth: {depth}\")\n",
        "  print(f\"Train Score : {accuracy_score(y_train, train_pred)}\") # 기출문제 풀기\n",
        "  print(f\"Test Score : {accuracy_score(y_test, test_pred)}\") # 새로운 문제 풀기"
      ],
      "metadata": {
        "id": "hSJapTFJ1t_w"
      },
      "execution_count": null,
      "outputs": []
    },
    {
      "cell_type": "code",
      "source": [
        "for i in range(1,20):\n",
        "  test_depth(i)"
      ],
      "metadata": {
        "colab": {
          "base_uri": "https://localhost:8080/"
        },
        "id": "G8Fxk7KK1wvp",
        "outputId": "8905d245-d3a2-407b-b118-7f7b3589e53b"
      },
      "execution_count": null,
      "outputs": [
        {
          "output_type": "stream",
          "name": "stdout",
          "text": [
            "depth: 1\n",
            "Train Score : 1.0\n",
            "Test Score : 0.8055555555555556\n",
            "depth: 2\n",
            "Train Score : 1.0\n",
            "Test Score : 0.8055555555555556\n",
            "depth: 3\n",
            "Train Score : 1.0\n",
            "Test Score : 0.8055555555555556\n",
            "depth: 4\n",
            "Train Score : 1.0\n",
            "Test Score : 0.8055555555555556\n",
            "depth: 5\n",
            "Train Score : 1.0\n",
            "Test Score : 0.8055555555555556\n",
            "depth: 6\n",
            "Train Score : 1.0\n",
            "Test Score : 0.8055555555555556\n",
            "depth: 7\n",
            "Train Score : 1.0\n",
            "Test Score : 0.8055555555555556\n",
            "depth: 8\n",
            "Train Score : 1.0\n",
            "Test Score : 0.8055555555555556\n",
            "depth: 9\n",
            "Train Score : 1.0\n",
            "Test Score : 0.8055555555555556\n",
            "depth: 10\n",
            "Train Score : 1.0\n",
            "Test Score : 0.8055555555555556\n",
            "depth: 11\n",
            "Train Score : 1.0\n",
            "Test Score : 0.8055555555555556\n",
            "depth: 12\n",
            "Train Score : 1.0\n",
            "Test Score : 0.8055555555555556\n",
            "depth: 13\n",
            "Train Score : 1.0\n",
            "Test Score : 0.8055555555555556\n",
            "depth: 14\n",
            "Train Score : 1.0\n",
            "Test Score : 0.8055555555555556\n",
            "depth: 15\n",
            "Train Score : 1.0\n",
            "Test Score : 0.8055555555555556\n",
            "depth: 16\n",
            "Train Score : 1.0\n",
            "Test Score : 0.8055555555555556\n",
            "depth: 17\n",
            "Train Score : 1.0\n",
            "Test Score : 0.8055555555555556\n",
            "depth: 18\n",
            "Train Score : 1.0\n",
            "Test Score : 0.8055555555555556\n",
            "depth: 19\n",
            "Train Score : 1.0\n",
            "Test Score : 0.8055555555555556\n"
          ]
        }
      ]
    },
    {
      "cell_type": "markdown",
      "source": [
        "## 트리그래프 시각화"
      ],
      "metadata": {
        "id": "7e8xlbHNlkHN"
      }
    },
    {
      "cell_type": "code",
      "source": [
        "from sklearn.tree import plot_tree"
      ],
      "metadata": {
        "id": "QIcJnNBPleXd"
      },
      "execution_count": null,
      "outputs": []
    },
    {
      "cell_type": "code",
      "source": [
        "plt.figure(figsize=(30, 15)) # plt 객체의 크기 결정\n",
        "# 트리 구조를 보고 싶은 모델을 넣고, 최대 깊이, 폰트 사이즈, \n",
        "plot_tree(model, max_depth=3, fontsize=20) # 변수명 지정 X\n",
        "plt.show()"
      ],
      "metadata": {
        "colab": {
          "base_uri": "https://localhost:8080/",
          "height": 480
        },
        "id": "IuaUDxkMlq8Y",
        "outputId": "9fd0f288-f97e-42df-c318-0852114c79df"
      },
      "execution_count": null,
      "outputs": [
        {
          "output_type": "display_data",
          "data": {
            "text/plain": [
              "<Figure size 2160x1080 with 1 Axes>"
            ],
            "image/png": "[encoded data removed]"
          },
          "metadata": {
            "needs_background": "light"
          }
        }
      ]
    },
    {
      "cell_type": "code",
      "source": [],
      "metadata": {
        "id": "sPfelxPBpZKw"
      },
      "execution_count": null,
      "outputs": []
    },
    {
      "cell_type": "code",
      "source": [],
      "metadata": {
        "id": "Y86Fd9nb2BDg"
      },
      "execution_count": null,
      "outputs": []
    }
  ]
}